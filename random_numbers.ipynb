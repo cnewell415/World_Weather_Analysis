{
 "cells": [
  {
   "cell_type": "code",
   "execution_count": 10,
   "id": "1867ade6",
   "metadata": {},
   "outputs": [],
   "source": [
    "# Import the random module\n",
    "import random\n",
    "\n"
   ]
  },
  {
   "cell_type": "code",
   "execution_count": 11,
   "id": "30945620",
   "metadata": {},
   "outputs": [
    {
     "data": {
      "text/plain": [
       "-16"
      ]
     },
     "execution_count": 11,
     "metadata": {},
     "output_type": "execute_result"
    }
   ],
   "source": [
    "random.randint(-90, 90)"
   ]
  },
  {
   "cell_type": "code",
   "execution_count": 12,
   "id": "3f317352",
   "metadata": {},
   "outputs": [
    {
     "data": {
      "text/plain": [
       "0.523567027936078"
      ]
     },
     "execution_count": 12,
     "metadata": {},
     "output_type": "execute_result"
    }
   ],
   "source": [
    "random.random()"
   ]
  },
  {
   "cell_type": "code",
   "execution_count": 13,
   "id": "93ed6009",
   "metadata": {},
   "outputs": [
    {
     "data": {
      "text/plain": [
       "5.726458987521972"
      ]
     },
     "execution_count": 13,
     "metadata": {},
     "output_type": "execute_result"
    }
   ],
   "source": [
    "random_number = random.randint(-90, 89) + random.random()\n",
    "random_number"
   ]
  },
  {
   "cell_type": "code",
   "execution_count": 14,
   "id": "7c89e6c9",
   "metadata": {},
   "outputs": [
    {
     "data": {
      "text/plain": [
       "-84"
      ]
     },
     "execution_count": 14,
     "metadata": {},
     "output_type": "execute_result"
    }
   ],
   "source": [
    "random.randrange(-90, 90, step=3)"
   ]
  },
  {
   "cell_type": "code",
   "execution_count": 15,
   "id": "2541ee8c",
   "metadata": {},
   "outputs": [
    {
     "data": {
      "text/plain": [
       "76.83409664226684"
      ]
     },
     "execution_count": 15,
     "metadata": {},
     "output_type": "execute_result"
    }
   ],
   "source": [
    "random.uniform(-90, 90)"
   ]
  },
  {
   "cell_type": "code",
   "execution_count": 16,
   "id": "eb957068",
   "metadata": {},
   "outputs": [],
   "source": [
    "# Import the NumPy module.\n",
    "import numpy as np"
   ]
  },
  {
   "cell_type": "code",
   "execution_count": 18,
   "id": "c286b880",
   "metadata": {},
   "outputs": [
    {
     "data": {
      "text/plain": [
       "array([ 68.52591877, -66.78015553, -16.94010855, -40.97454366,\n",
       "       -87.58090847,  10.16838386, -88.43195456,  85.73713814,\n",
       "        -3.44964237,  27.03403688, -82.44220564,  45.92356003,\n",
       "       -35.9421572 , -81.59246623,  53.40827647, -58.37273568,\n",
       "       -15.7017081 , -20.72788809,  -1.62182897, -70.27022354,\n",
       "       -17.20421742,  61.74039024, -83.58802954,  50.50915679,\n",
       "       -48.31801804,  84.47071464, -69.86296618,  44.33149158,\n",
       "       -42.08975285, -26.53399165,  37.13211586,   7.31287745,\n",
       "       -83.7444568 , -76.54378306,  34.05841599, -49.20858091,\n",
       "        75.49978093,  63.69417156, -53.76615217, -84.6879521 ,\n",
       "        75.62593881,  62.51703751,  18.40272123,  -9.5807948 ,\n",
       "         2.32032208, -16.00447606,  77.98734459,  73.60119529,\n",
       "        79.34073328, -17.64573719])"
      ]
     },
     "execution_count": 18,
     "metadata": {},
     "output_type": "execute_result"
    }
   ],
   "source": [
    "np.random.uniform(-90.000, 90.000, size=50)"
   ]
  },
  {
   "cell_type": "code",
   "execution_count": 19,
   "id": "4e3c2e07",
   "metadata": {},
   "outputs": [],
   "source": [
    "# Import timeit.\n",
    "import timeit  \n"
   ]
  }
 ],
 "metadata": {
  "interpreter": {
   "hash": "243d553deb072b06f6775306a362ee06ac90ffe91c2241db48331fe9c419b749"
  },
  "kernelspec": {
   "display_name": "PythonData",
   "language": "python",
   "name": "python3"
  },
  "language_info": {
   "codemirror_mode": {
    "name": "ipython",
    "version": 3
   },
   "file_extension": ".py",
   "mimetype": "text/x-python",
   "name": "python",
   "nbconvert_exporter": "python",
   "pygments_lexer": "ipython3",
   "version": "3.7.11"
  }
 },
 "nbformat": 4,
 "nbformat_minor": 5
}
